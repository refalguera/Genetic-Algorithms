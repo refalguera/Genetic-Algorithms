{
 "cells": [
  {
   "cell_type": "markdown",
   "metadata": {},
   "source": [
    "# Algoritmos Genéticos\n",
    "\n",
    "A ideia do algoritmo genético é selecionar as melhores soluções de um problema e fazer com que elas se perpetuem. Podemos definir como um pseudocódigo do AG o seguinte:\n",
    "- **ENTRADA** : População Inicial (aleatória)\n",
    "                Função de Fitness\n",
    "                Critério de Parada\n",
    "- **REPITA** (até que o critério de parada seja atendido):\n",
    "- **PASSO 1:** Aplicar a função de fitness a cada indivíduo\n",
    "- **PASSO 2:** Selecionar os x melhores indivíduos\n",
    "- **PASSO 3:** Reprodução\n",
    "        - Aplicar o crossover a um par (com prob = p)\n",
    "        - Aplicar mutação (com prob = p’)\n",
    "- **PASSO 4:** Formar uma nova população com os filhos gerados\n",
    "- **SAÍDA:** Melhor indivíduo presente na geração final"
   ]
  },
  {
   "cell_type": "markdown",
   "metadata": {},
   "source": [
    "## Problema Proposto\n",
    "\n",
    "Gerar um algoritmo genetico que aprenda o jogo do DinoRun do Google Chrome. O agente tem três possíveis ações: Pular, Agachar e Não fazer Nada. Logo, a populção do nosso AG apresentará indivíduos multidimensionais. Cada ação apresenta uma função que indica o quão boa ela é para um dado estado do jogo. O estado atual do jogo é dado por 10 componentes (s0,s1,s2,s3,s4,s5,s6,s7,s8,s9). \n",
    "\n",
    "Assim sendo, cada ação do indivíduo apresenta um pesp para cada componente do estado do jogo, para que assim possamos avaliar o quão boa a ação é dado um estado. Temos assim indivíudos definidos como matrizes 3x10.\n"
   ]
  },
  {
   "cell_type": "markdown",
   "metadata": {},
   "source": [
    "## Importação das Bibliotecas"
   ]
  },
  {
   "cell_type": "code",
   "execution_count": 1,
   "metadata": {},
   "outputs": [],
   "source": [
    "import numpy as np\n",
    "import random\n",
    "from chrome_trex import DinoGame"
   ]
  },
  {
   "cell_type": "markdown",
   "metadata": {},
   "source": [
    "## Definição dos Parâmentros Globais\n",
    "\n",
    "Definimos a probabilidade de mutação e de crossover dos pesos, como também o número de indivíduos contidos na população, e o número de que são mantidos de uma geração para a próxima,"
   ]
  },
  {
   "cell_type": "code",
   "execution_count": 2,
   "metadata": {},
   "outputs": [],
   "source": [
    "CHANCE_MUT = .20 # Chance de mutação de uma peso qualquer\n",
    "CHANCE_CO = .25 # Chance de crossing over de um peso qualquer\n",
    "NUM_INDIVIDUOS = 15 # Tamnanho da população\n",
    "NUM_MELHORES = 3 # Número de indivíduos que são mantidos de uma geração para a próxima\n"
   ]
  },
  {
   "cell_type": "markdown",
   "metadata": {},
   "source": [
    "## Geração da População Inicial"
   ]
  },
  {
   "cell_type": "markdown",
   "metadata": {},
   "source": [
    "A população será formada por **n** individuos, e seja primeiramente gerarada de maneira aleatória. Se criará uma lista com **n** individuos de tamanho 3x10 com valores de pesos variando entre -10 e 10."
   ]
  },
  {
   "cell_type": "code",
   "execution_count": 3,
   "metadata": {},
   "outputs": [],
   "source": [
    "def populacao_aleatoria(n):\n",
    "    populacao = []\n",
    "    \n",
    "    for i in range(n):\n",
    "        populacao.append(np.random.uniform(-10,10,(3,10)))\n",
    "        \n",
    "    return populacao"
   ]
  },
  {
   "cell_type": "markdown",
   "metadata": {},
   "source": [
    "## Função de Decisão"
   ]
  },
  {
   "cell_type": "markdown",
   "metadata": {},
   "source": [
    "Como vimos, dentre as ações disponíveis, temos: Pular, Agachar e Não Fazer Nada. Baseado no estado atual do jogo, o agente tomará a decisão. Para isso define-se duas funções:\n",
    "- Valor das ações: Se calculará o valor de cada ação para cada individuo. Saida: Para cada indivíduo, um vetor de 3 posições com o valor de cada ação;\n",
    "- Escolha da Melhor Ação: A melhor ação de cada indivíduo será selecionada, ou seja, a ação com maior valor.\n",
    "\n"
   ]
  },
  {
   "cell_type": "markdown",
   "metadata": {},
   "source": [
    "### 1. Valor das Ações\n",
    "\n",
    "A multiplicação matricial da matriz do indivíduo pelo vetor do estado nos retornará os valores de cada ação.\n",
    "\n",
    "Por examplo, se o estado tivesse 4 componentes (s0,s1,s2,s3),e as letras de (a *a* j) forem os pesos do indivíduo, e **v0**, **v1** e **v2** os valores das ação matricialmente teriamos: \n",
    "\n",
    "$$\\begin{bmatrix} a & b & c \\\\ d & f & g \\\\ h & i & j \\end{bmatrix} \\ \\begin{bmatrix} s0 \\\\ s1 \\\\ s2 \\\\ s3 \\end{bmatrix} = \\begin{bmatrix} v0 \\\\ v1 \\\\ v2 \\end{bmatrix}  $$  "
   ]
  },
  {
   "cell_type": "code",
   "execution_count": 4,
   "metadata": {},
   "outputs": [],
   "source": [
    "def valor_das_acoes(individuo,estado):\n",
    "    return individuo @ estado"
   ]
  },
  {
   "cell_type": "markdown",
   "metadata": {},
   "source": [
    "### 2. Índice da Melhor Ação\n",
    "\n",
    "Dado o vetor de cada indivíduo com os valores para cada ação, retorna-se o índice do maior valor."
   ]
  },
  {
   "cell_type": "code",
   "execution_count": 5,
   "metadata": {},
   "outputs": [],
   "source": [
    "def melhor_jogada(individuo,estado):\n",
    "    valores = valor_das_acoes(individuo,estado)\n",
    "    return np.argmax(valores)"
   ]
  },
  {
   "cell_type": "markdown",
   "metadata": {},
   "source": [
    "### Reprodução e Mutação\n",
    "\n",
    "Para a reprodução dos indíviduos, a função de crossing over escolherá dois indivíduos da população existente e a partir deles criará um indivíduo novo. Depois disso a função de mutação irá possivelmente alterar esse indivíduo."
   ]
  },
  {
   "cell_type": "markdown",
   "metadata": {},
   "source": [
    "### 1. Mutação"
   ]
  },
  {
   "cell_type": "markdown",
   "metadata": {},
   "source": [
    "Na função de mutação nós vamos possivelmente mutar os pesos do nosso indivíduo com uma probabilidade definida pela variável global CHANCE_MUT. Para fazer com que um evento ocorra com probabilidade p basta gerar um número aleatório entre 0 e 1, e verificar se ele está dentro de um intervalo do tamanho da probabilidade que queremos."
   ]
  },
  {
   "cell_type": "code",
   "execution_count": 6,
   "metadata": {},
   "outputs": [],
   "source": [
    "def mutacao(individuo):\n",
    "    for i in range(3):\n",
    "        for j in range(10):\n",
    "            if np.random.uniform(0,1) < CHANCE_MUT:\n",
    "                individuo[i][j] *= np.random.uniform(-1.5,1.5)"
   ]
  },
  {
   "cell_type": "markdown",
   "metadata": {},
   "source": [
    "### Reprodução"
   ]
  },
  {
   "cell_type": "markdown",
   "metadata": {},
   "source": [
    "Vamos definir a nossa “cria” como a cópia de um dos dois indivíduos selecionados e depois trocar cada um dos pesos pelo do outro indivíduo com uma chance dada."
   ]
  },
  {
   "cell_type": "code",
   "execution_count": 7,
   "metadata": {},
   "outputs": [],
   "source": [
    "def crossover(individuo1,individuo2):\n",
    "    filho = individuo1.copy()\n",
    "    for i in range(3):\n",
    "        for j in range(10):\n",
    "            if np.random.uniform(0,1) < CHANCE_CO:\n",
    "                filho[i][j] = individuo2[i][j]\n",
    "    return filho"
   ]
  },
  {
   "cell_type": "markdown",
   "metadata": {},
   "source": [
    "## Fitness Function\n",
    "\n",
    "A função fitness que avaliará cada individuo ser baseada no score do jogo. Em termos de código, o que a função deve executar é: fazer com que o indivíduo jogue o jogo e depois pegar o score dele."
   ]
  },
  {
   "cell_type": "code",
   "execution_count": 9,
   "metadata": {},
   "outputs": [],
   "source": [
    "def calcular_fitness(jogo,individuo):\n",
    "    jogo.reset()\n",
    "    while not jogo.game_over:\n",
    "        estado = jogo.get_state()\n",
    "        acao = melhor_jogada(individuo,estado)\n",
    "        jogo.step(acao)\n",
    "    return jogo.get_score()"
   ]
  },
  {
   "cell_type": "markdown",
   "metadata": {},
   "source": [
    "## Próxima Geração\n",
    "\n",
    "Definida a função de fitness, pode-se eliminar os piores indivíduos e reproduzir os melhores. Ou seja, vamos unir o fitness com a reprodução e também selecionar os melhores. Para isso, vamos definir uma função adicional que ordenará a população com base no fitness de cada individuo."
   ]
  },
  {
   "cell_type": "code",
   "execution_count": 10,
   "metadata": {},
   "outputs": [],
   "source": [
    "def ordenar_lista(lista, ordenacao, decrescente=True):\n",
    "    return [x for _, x in sorted(zip(ordenacao,lista), key=lambda p: p[0], reverse = decrescente)]"
   ]
  },
  {
   "cell_type": "code",
   "execution_count": 11,
   "metadata": {},
   "outputs": [],
   "source": [
    "def proxima_geracao(populacao, fitness):\n",
    "    ordenados = ordenar_lista(populacao, fitness)\n",
    "    proxima_ger = ordenados[:NUM_MELHORES]\n",
    "    \n",
    "    while len(proxima_ger):\n",
    "        ind1, ind2 = random.choices(populacao,k=2)\n",
    "        filho = crossover(ind1,ind2)\n",
    "        mutacao(filho)\n",
    "        proxima_ger.append(filho)\n",
    "    \n",
    "    return proxima_ger"
   ]
  },
  {
   "cell_type": "markdown",
   "metadata": {},
   "source": [
    "## Função Main"
   ]
  },
  {
   "cell_type": "code",
   "execution_count": null,
   "metadata": {},
   "outputs": [
    {
     "name": "stdout",
     "output_type": "stream",
     "text": [
      "ger | fitness\n",
      "---+----------------------------------------------------------------------------\n"
     ]
    }
   ],
   "source": [
    "num_geracoes = 100\n",
    "jogo = DinoGame(fps=60)\n",
    "\n",
    "populacao = populacao_aleatoria(NUM_INDIVIDUOS)\n",
    "\n",
    "print('ger | fitness\\n---+-' + '-'*5*NUM_INDIVIDUOS)\n",
    "\n",
    "for ger in range(num_geracoes):\n",
    "    fitness = []\n",
    "    for ind in populacao:\n",
    "        fitness.append(calcular_fitness(jogo,ind))\n",
    "        \n",
    "    populacao = proxima_geracao(populacao,fitness)\n",
    "    \n",
    "    print('{:3} |'.format(ger), ' '.join('{:4d}'.format(s) for s in sorted(fitness, reverse=True)))\n",
    "    \n",
    "\n",
    "fitness = []\n",
    "for ind in populacao:\n",
    "    fitness.append(calcular_fitness(jogo,ind))\n",
    "        \n",
    "jogo.fps = 100\n",
    "ordenados = ordenar_lista(populacao,fitness)\n",
    "melhor = ordenados[0]\n",
    "print('Melhor Indivíduo:', melhor)\n",
    "fit = calcular_fitness(jogo,melhor)\n",
    "print('Fitness: {:4.1f}'.format(jogo.get_score()))"
   ]
  },
  {
   "cell_type": "code",
   "execution_count": null,
   "metadata": {},
   "outputs": [],
   "source": []
  },
  {
   "cell_type": "code",
   "execution_count": null,
   "metadata": {},
   "outputs": [],
   "source": []
  }
 ],
 "metadata": {
  "kernelspec": {
   "display_name": "Python 3",
   "language": "python",
   "name": "python3"
  },
  "language_info": {
   "codemirror_mode": {
    "name": "ipython",
    "version": 3
   },
   "file_extension": ".py",
   "mimetype": "text/x-python",
   "name": "python",
   "nbconvert_exporter": "python",
   "pygments_lexer": "ipython3",
   "version": "3.8.3"
  }
 },
 "nbformat": 4,
 "nbformat_minor": 4
}
